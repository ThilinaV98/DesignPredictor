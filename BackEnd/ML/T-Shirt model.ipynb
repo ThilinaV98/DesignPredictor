{
 "cells": [
  {
   "cell_type": "markdown",
   "id": "c1cc5c9e",
   "metadata": {},
   "source": [
    "# Data set creation"
   ]
  },
  {
   "cell_type": "code",
   "execution_count": 1,
   "id": "6b68bd7f",
   "metadata": {},
   "outputs": [
    {
     "name": "stdout",
     "output_type": "stream",
     "text": [
      "['Design 1', 'Design 2', 'Design 3']\n",
      "[0, 1, 2]\n",
      "{'Design 1': 0, 'Design 2': 1, 'Design 3': 2}\n"
     ]
    }
   ],
   "source": [
    "import os\n",
    "import numpy as np\n",
    "\n",
    "data_path='DataSet'\n",
    "\n",
    "categories=os.listdir(data_path)\n",
    "print(categories)\n",
    "labels=[i for i in range(len(categories))]\n",
    "print(labels)\n",
    "category_dict={'Design 1':0,'Design 2':1,'Design 3':2}\n",
    "print(category_dict)"
   ]
  },
  {
   "cell_type": "code",
   "execution_count": 2,
   "id": "ea1e2081",
   "metadata": {},
   "outputs": [
    {
     "name": "stdout",
     "output_type": "stream",
     "text": [
      "DataSet\\Design 1 ['1.jpeg', '10.jpeg', '100.jpeg', '101.jpeg', '102.jpeg', '103.jpeg', '104.jpeg', '105.jpeg', '106.jpeg', '107.jpeg', '108.jpeg', '109.jpeg', '11.jpeg', '110.jpeg', '111.jpeg', '112.jpeg', '113.jpeg', '114.jpeg', '115.jpeg', '116.jpeg', '117.jpeg', '118.jpeg', '119.jpeg', '12.jpeg', '120.jpeg', '121.jpeg', '122.jpeg', '123.jpeg', '124.jpeg', '125.jpeg', '126.jpeg', '127.jpeg', '128.jpeg', '129.jpeg', '13.jpeg', '130.jpeg', '131.jpeg', '132.jpeg', '133.jpeg', '134.jpeg', '135.jpeg', '136.jpeg', '137.jpeg', '138.jpeg', '139.jpeg', '14.jpeg', '140.jpeg', '141.jpeg', '142.jpeg', '143.jpeg', '144.jpeg', '145.jpeg', '146.jpeg', '147.jpeg', '148.jpeg', '149.jpeg', '15.jpeg', '150.jpeg', '151.jpeg', '152.jpeg', '153.jpeg', '154.jpeg', '155.jpeg', '156.jpeg', '157.jpeg', '158.jpeg', '159.jpeg', '16.jpeg', '160.jpeg', '161.jpeg', '162.jpeg', '163.jpeg', '164.jpeg', '165.jpeg', '166.jpeg', '167.jpeg', '168.jpeg', '169.jpeg', '17.jpeg', '170.jpeg', '171.jpeg', '172.jpeg', '173.jpeg', '174.jpeg', '175.jpeg', '176.jpeg', '177.jpeg', '178.jpeg', '179.jpeg', '18.jpeg', '180.jpeg', '181.jpeg', '182.jpeg', '183.jpeg', '184.jpeg', '185.jpeg', '186.jpeg', '187.jpeg', '188.jpeg', '189.jpeg', '19.jpeg', '190.jpeg', '191.jpeg', '192.jpeg', '193.jpeg', '194.jpeg', '195.jpeg', '196.jpeg', '197.jpeg', '198.jpeg', '199.jpeg', '2.jpeg', '20.jpeg', '200.jpeg', '201.jpeg', '202.jpeg', '203.jpeg', '204.jpeg', '205.jpeg', '206.jpeg', '207.jpeg', '208.jpeg', '209.jpeg', '21.jpeg', '210.jpeg', '211.jpeg', '212.jpeg', '213.jpeg', '214.jpeg', '215.jpeg', '216.jpeg', '217.jpeg', '218.jpeg', '219.jpeg', '22.jpeg', '220.jpeg', '221.jpeg', '222.jpeg', '223.jpeg', '224.jpeg', '225.jpeg', '226.jpeg', '227.jpeg', '228.jpeg', '229.jpeg', '23.jpeg', '230.jpeg', '231.jpeg', '232.jpeg', '233.jpeg', '234.jpeg', '235.jpeg', '236.jpeg', '237.jpeg', '238.jpeg', '239.jpeg', '24.jpeg', '240.jpeg', '241.jpeg', '242.jpeg', '243.jpeg', '244.jpeg', '245.jpeg', '246.jpeg', '247.jpeg', '248.jpeg', '249.jpeg', '25.jpeg', '250.jpeg', '26.jpeg', '27.jpeg', '28.jpeg', '29.jpeg', '3.jpeg', '30.jpeg', '31.jpeg', '32.jpeg', '33.jpeg', '34.jpeg', '35.jpeg', '36.jpeg', '37.jpeg', '38.jpeg', '39.jpeg', '4.jpeg', '40.jpeg', '41.jpeg', '42.jpeg', '43.jpeg', '44.jpeg', '45.jpeg', '46.jpeg', '47.jpeg', '48.jpeg', '49.jpeg', '5.jpeg', '50.jpeg', '51.jpeg', '52.jpeg', '53.jpeg', '54.jpeg', '55.jpeg', '56.jpeg', '57.jpeg', '58.jpeg', '59.jpeg', '6.jpeg', '60.jpeg', '61.jpeg', '62.jpeg', '63.jpeg', '64.jpeg', '65.jpeg', '66.jpeg', '67.jpeg', '68.jpeg', '69.jpeg', '7.jpeg', '70.jpeg', '71.jpeg', '72.jpeg', '73.jpeg', '74.jpeg', '75.jpeg', '76.jpeg', '77.jpeg', '78.jpeg', '79.jpeg', '8.jpeg', '80.jpeg', '81.jpeg', '82.jpeg', '83.jpeg', '84.jpeg', '85.jpeg', '86.jpeg', '87.jpeg', '88.jpeg', '89.jpeg', '9.jpeg', '90.jpeg', '91.jpeg', '92.jpeg', '93.jpeg', '94.jpeg', '95.jpeg', '96.jpeg', '97.jpeg', '98.jpeg', '99.jpeg']\n",
      "Design 1 ---------------------\n",
      "DataSet\\Design 2 ['1.jpeg', '10.jpeg', '100.jpeg', '101.jpeg', '102.jpeg', '103.jpeg', '104.jpeg', '105.jpeg', '106.jpeg', '107.jpeg', '108.jpeg', '109.jpeg', '11.jpeg', '110.jpeg', '111.jpeg', '112.jpeg', '113.jpeg', '114.jpeg', '115.jpeg', '116.jpeg', '117.jpeg', '118.jpeg', '119.jpeg', '12.jpeg', '120.jpeg', '121.jpeg', '122.jpeg', '123.jpeg', '124.jpeg', '125.jpeg', '126.jpeg', '127.jpeg', '128.jpeg', '129.jpeg', '13.jpeg', '130.jpeg', '131.jpeg', '132.jpeg', '133.jpeg', '134.jpeg', '135.jpeg', '136.jpeg', '137.jpeg', '138.jpeg', '139.jpeg', '14.jpeg', '140.jpeg', '141.jpeg', '142.jpeg', '143.jpeg', '144.jpeg', '145.jpeg', '146.jpeg', '147.jpeg', '148.jpeg', '149.jpeg', '15.jpeg', '150.jpeg', '151.jpeg', '152.jpeg', '153.jpeg', '154.jpeg', '155.jpeg', '156.jpeg', '157.jpeg', '158.jpeg', '159.jpeg', '16.jpeg', '160.jpeg', '161.jpeg', '162.jpeg', '163.jpeg', '164.jpeg', '165.jpeg', '166.jpeg', '167.jpeg', '168.jpeg', '169.jpeg', '17.jpeg', '170.jpeg', '171.jpeg', '172.jpeg', '173.jpeg', '174.jpeg', '175.jpeg', '176.jpeg', '177.jpeg', '178.jpeg', '179.jpeg', '18.jpeg', '180.jpeg', '181.jpeg', '182.jpeg', '183.jpeg', '184.jpeg', '185.jpeg', '186.jpeg', '187.jpeg', '188.jpeg', '189.jpeg', '19.jpeg', '190.jpeg', '191.jpeg', '192.jpeg', '193.jpeg', '194.jpeg', '195.jpeg', '196.jpeg', '197.jpeg', '198.jpeg', '199.jpeg', '2.jpeg', '20.jpeg', '200.jpeg', '201.jpeg', '202.jpeg', '203.jpeg', '204.jpeg', '205.jpeg', '206.jpeg', '207.jpeg', '208.jpeg', '209.jpeg', '21.jpeg', '210.jpeg', '211.jpeg', '212.jpeg', '213.jpeg', '214.jpeg', '215.jpeg', '216.jpeg', '217.jpeg', '218.jpeg', '219.jpeg', '22.jpeg', '220.jpeg', '221.jpeg', '222.jpeg', '223.jpeg', '224.jpeg', '225.jpeg', '226.jpeg', '227.jpeg', '228.jpeg', '229.jpeg', '23.jpeg', '230.jpeg', '231.jpeg', '232.jpeg', '233.jpeg', '234.jpeg', '235.jpeg', '236.jpeg', '237.jpeg', '238.jpeg', '239.jpeg', '24.jpeg', '240.jpeg', '241.jpeg', '242.jpeg', '243.jpeg', '244.jpeg', '245.jpeg', '246.jpeg', '247.jpeg', '248.jpeg', '249.jpeg', '25.jpeg', '250.jpeg', '26.jpeg', '27.jpeg', '28.jpeg', '29.jpeg', '3.jpeg', '30.jpeg', '31.jpeg', '32.jpeg', '33.jpeg', '34.jpeg', '35.jpeg', '36.jpeg', '37.jpeg', '38.jpeg', '39.jpeg', '4.jpeg', '40.jpeg', '41.jpeg', '42.jpeg', '43.jpeg', '44.jpeg', '45.jpeg', '46.jpeg', '47.jpeg', '48.jpeg', '49.jpeg', '5.jpeg', '50.jpeg', '51.jpeg', '52.jpeg', '53.jpeg', '54.jpeg', '55.jpeg', '56.jpeg', '57.jpeg', '58.jpeg', '59.jpeg', '6.jpeg', '60.jpeg', '61.jpeg', '62.jpeg', '63.jpeg', '64.jpeg', '65.jpeg', '66.jpeg', '67.jpeg', '68.jpeg', '69.jpeg', '7.jpeg', '70.jpeg', '71.jpeg', '72.jpeg', '73.jpeg', '74.jpeg', '75.jpeg', '76.jpeg', '77.jpeg', '78.jpeg', '79.jpeg', '8.jpeg', '80.jpeg', '81.jpeg', '82.jpeg', '83.jpeg', '84.jpeg', '85.jpeg', '86.jpeg', '87.jpeg', '88.jpeg', '89.jpeg', '9.jpeg', '90.jpeg', '91.jpeg', '92.jpeg', '93.jpeg', '94.jpeg', '95.jpeg', '96.jpeg', '97.jpeg', '98.jpeg', '99.jpeg']\n",
      "Design 2 ---------------------\n",
      "DataSet\\Design 3 ['1.jpeg', '10.jpeg', '100.jpeg', '101.jpeg', '102.jpeg', '103.jpeg', '104.jpeg', '105.jpeg', '106.jpeg', '107.jpeg', '108.jpeg', '109.jpeg', '11.jpeg', '110.jpeg', '111.jpeg', '112.jpeg', '113.jpeg', '114.jpeg', '115.jpeg', '116.jpeg', '117.jpeg', '118.jpeg', '119.jpeg', '12.jpeg', '120.jpeg', '121.jpeg', '122.jpeg', '123.jpeg', '124.jpeg', '125.jpeg', '126.jpeg', '127.jpeg', '128.jpeg', '129.jpeg', '13.jpeg', '130.jpeg', '131.jpeg', '132.jpeg', '133.jpeg', '134.jpeg', '135.jpeg', '136.jpeg', '137.jpeg', '138.jpeg', '139.jpeg', '14.jpeg', '140.jpeg', '141.jpeg', '142.jpeg', '143.jpeg', '144.jpeg', '145.jpeg', '146.jpeg', '147.jpeg', '148.jpeg', '149.jpeg', '15.jpeg', '150.jpeg', '151.jpeg', '152.jpeg', '153.jpeg', '154.jpeg', '155.jpeg', '156.jpeg', '157.jpeg', '158.jpeg', '159.jpeg', '16.jpeg', '160.jpeg', '161.jpeg', '162.jpeg', '163.jpeg', '164.jpeg', '165.jpeg', '166.jpeg', '167.jpeg', '168.jpeg', '169.jpeg', '17.jpeg', '170.jpeg', '171.jpeg', '172.jpeg', '173.jpeg', '174.jpeg', '175.jpeg', '176.jpeg', '177.jpeg', '178.jpeg', '179.jpeg', '18.jpeg', '180.jpeg', '181.jpeg', '182.jpeg', '183.jpeg', '184.jpeg', '185.jpeg', '186.jpeg', '187.jpeg', '188.jpeg', '189.jpeg', '19.jpeg', '190.jpeg', '191.jpeg', '192.jpeg', '193.jpeg', '194.jpeg', '195.jpeg', '196.jpeg', '197.jpeg', '198.jpeg', '199.jpeg', '2.jpeg', '20.jpeg', '200.jpeg', '201.jpeg', '202.jpeg', '203.jpeg', '204.jpeg', '205.jpeg', '206.jpeg', '207.jpeg', '208.jpeg', '209.jpeg', '21.jpeg', '210.jpeg', '211.jpeg', '212.jpeg', '213.jpeg', '214.jpeg', '215.jpeg', '216.jpeg', '217.jpeg', '218.jpeg', '219.jpeg', '22.jpeg', '220.jpeg', '221.jpeg', '222.jpeg', '223.jpeg', '224.jpeg', '225.jpeg', '226.jpeg', '227.jpeg', '228.jpeg', '229.jpeg', '23.jpeg', '230.jpeg', '231.jpeg', '232.jpeg', '233.jpeg', '234.jpeg', '235.jpeg', '236.jpeg', '237.jpeg', '238.jpeg', '239.jpeg', '24.jpeg', '240.jpeg', '241.jpeg', '242.jpeg', '243.jpeg', '244.jpeg', '245.jpeg', '246.jpeg', '247.jpeg', '248.jpeg', '249.jpeg', '25.jpeg', '250.jpeg', '26.jpeg', '27.jpeg', '28.jpeg', '29.jpeg', '3.jpeg', '30.jpeg', '31.jpeg', '32.jpeg', '33.jpeg', '34.jpeg', '35.jpeg', '36.jpeg', '37.jpeg', '38.jpeg', '39.jpeg', '4.jpeg', '40.jpeg', '41.jpeg', '42.jpeg', '43.jpeg', '44.jpeg', '45.jpeg', '46.jpeg', '47.jpeg', '48.jpeg', '49.jpeg', '5.jpeg', '50.jpeg', '51.jpeg', '52.jpeg', '53.jpeg', '54.jpeg', '55.jpeg', '56.jpeg', '57.jpeg', '58.jpeg', '59.jpeg', '6.jpeg', '60.jpeg', '61.jpeg', '62.jpeg', '63.jpeg', '64.jpeg', '65.jpeg', '66.jpeg', '67.jpeg', '68.jpeg', '69.jpeg', '7.jpeg', '70.jpeg', '71.jpeg', '72.jpeg', '73.jpeg', '74.jpeg', '75.jpeg', '76.jpeg', '77.jpeg', '78.jpeg', '79.jpeg', '8.jpeg', '80.jpeg', '81.jpeg', '82.jpeg', '83.jpeg', '84.jpeg', '85.jpeg', '86.jpeg', '87.jpeg', '88.jpeg', '89.jpeg', '9.jpeg', '90.jpeg', '91.jpeg', '92.jpeg', '93.jpeg', '94.jpeg', '95.jpeg', '96.jpeg', '97.jpeg', '98.jpeg', '99.jpeg']\n",
      "Design 3 ---------------------\n"
     ]
    }
   ],
   "source": [
    "import cv2\n",
    "\n",
    "data=[]\n",
    "target=[]\n",
    "\n",
    "for category in categories:\n",
    "    imgs_path=os.path.join(data_path,category)\n",
    "    img_names=os.listdir(imgs_path)\n",
    "    print(imgs_path,img_names)\n",
    "    print(category,'---------------------')\n",
    "    for img_name in img_names:\n",
    "        img_path=os.path.join(imgs_path,img_name)\n",
    "        img=cv2.imread(img_path,0)\n",
    "        img=cv2.resize(img,(8,8))\n",
    "        data.append(img)\n",
    "        target.append(category_dict[category])\n",
    "        "
   ]
  },
  {
   "cell_type": "code",
   "execution_count": 3,
   "id": "fc83f1a1",
   "metadata": {},
   "outputs": [
    {
     "name": "stdout",
     "output_type": "stream",
     "text": [
      "before resize: (750, 8, 8)\n",
      "after resize: (750, 64)\n"
     ]
    }
   ],
   "source": [
    "data=np.array(data)\n",
    "print('before resize:',data.shape)\n",
    "data=data.reshape(data.shape[0],data.shape[1]*data.shape[2])\n",
    "\n",
    "print('after resize:',data.shape)\n",
    "target=np.array(target)\n",
    "\n",
    "np.save('data',data)\n",
    "np.save('target',target)"
   ]
  },
  {
   "cell_type": "markdown",
   "id": "51506be8",
   "metadata": {},
   "source": [
    "# Dataset Training"
   ]
  },
  {
   "cell_type": "code",
   "execution_count": 4,
   "id": "1afef4e2",
   "metadata": {},
   "outputs": [],
   "source": [
    "import numpy as np\n",
    "\n",
    "data=np.load('data.npy')\n",
    "target=np.load('target.npy')"
   ]
  },
  {
   "cell_type": "code",
   "execution_count": 5,
   "id": "9a059e7f",
   "metadata": {},
   "outputs": [],
   "source": [
    "from sklearn.model_selection import train_test_split\n",
    "\n",
    "train_data,test_data,train_target,test_target=train_test_split(data,target,test_size=0.1)"
   ]
  },
  {
   "cell_type": "code",
   "execution_count": 6,
   "id": "8bd1ba77",
   "metadata": {},
   "outputs": [],
   "source": [
    "from sklearn.neighbors import KNeighborsClassifier\n",
    "\n",
    "model=KNeighborsClassifier() #load KNN algorithm into model"
   ]
  },
  {
   "cell_type": "code",
   "execution_count": 7,
   "id": "bf606750",
   "metadata": {},
   "outputs": [
    {
     "data": {
      "text/plain": [
       "KNeighborsClassifier()"
      ]
     },
     "execution_count": 7,
     "metadata": {},
     "output_type": "execute_result"
    }
   ],
   "source": [
    "model.fit(train_data,train_target) #training the KNN model using traininig data and target\n"
   ]
  },
  {
   "cell_type": "code",
   "execution_count": 8,
   "id": "e8d9aac2",
   "metadata": {},
   "outputs": [],
   "source": [
    "predicted_target=model.predict(test_data) #getting predictions from the model"
   ]
  },
  {
   "cell_type": "code",
   "execution_count": 9,
   "id": "3613c4dc",
   "metadata": {},
   "outputs": [
    {
     "name": "stdout",
     "output_type": "stream",
     "text": [
      "Accuracy: 0.41333333333333333\n"
     ]
    }
   ],
   "source": [
    "from sklearn.metrics import accuracy_score\n",
    "\n",
    "acc=accuracy_score(test_target,predicted_target)\n",
    "print('Accuracy:',acc)"
   ]
  },
  {
   "cell_type": "code",
   "execution_count": 10,
   "id": "649b09c0",
   "metadata": {},
   "outputs": [
    {
     "name": "stdout",
     "output_type": "stream",
     "text": [
      "Classification Report:               precision    recall  f1-score   support\n",
      "\n",
      "           0       0.26      0.23      0.24        22\n",
      "           1       0.67      0.21      0.32        28\n",
      "           2       0.43      0.80      0.56        25\n",
      "\n",
      "    accuracy                           0.41        75\n",
      "   macro avg       0.45      0.41      0.37        75\n",
      "weighted avg       0.47      0.41      0.38        75\n",
      "\n"
     ]
    }
   ],
   "source": [
    "from sklearn.metrics import classification_report\n",
    "\n",
    "classi_report=classification_report(test_target,predicted_target)\n",
    "print('Classification Report:',classi_report)"
   ]
  },
  {
   "cell_type": "code",
   "execution_count": 11,
   "id": "744be268",
   "metadata": {},
   "outputs": [
    {
     "data": {
      "text/plain": [
       "['T-shirt-knn.sav']"
      ]
     },
     "execution_count": 11,
     "metadata": {},
     "output_type": "execute_result"
    }
   ],
   "source": [
    "import joblib\n",
    "\n",
    "joblib.dump(model,'T-shirt-knn.sav')"
   ]
  },
  {
   "cell_type": "markdown",
   "id": "c3b1e49b",
   "metadata": {},
   "source": [
    "# Predictions"
   ]
  },
  {
   "cell_type": "code",
   "execution_count": 4,
   "id": "2f6909a3",
   "metadata": {},
   "outputs": [
    {
     "name": "stdout",
     "output_type": "stream",
     "text": [
      "112.jpeg\n",
      "\\80.jpeg\n",
      "163.jpeg\n",
      "213.jpeg\n"
     ]
    }
   ],
   "source": [
    "import cv2\n",
    "from matplotlib import pyplot as plt\n",
    "import numpy as np\n",
    "import joblib\n",
    "import random\n",
    "import glob\n",
    "import os\n",
    "\n",
    "clsfr=joblib.load('T-shirt-knn.sav')\n",
    "\n",
    "label_dict={0:'Design 1',1:'Design 2',2:'Design 3'}\n",
    "\n",
    "img = cv2.imread('DataSet/Design 1/206.jpeg')\n",
    "img = cv2.resize(img,(720,720))\n",
    "\n",
    "img_in=cv2.cvtColor(img,cv2.COLOR_BGR2GRAY) #converting into a gray image\n",
    "img_in=cv2.resize(img_in,(8,8)) #resizing into 8x8\n",
    "img_in=np.reshape(img_in,(1,64))  #reshaping into 1x64\n",
    "\n",
    "result=clsfr.predict(img_in)[0]\n",
    "label=label_dict[result]\n",
    "\n",
    "cv2.putText(img, label, (10, 100), cv2.FONT_HERSHEY_SIMPLEX, 3, (0, 0, 0), 3)\n",
    "cv2.namedWindow('img', cv2.WINDOW_AUTOSIZE)\n",
    "cv2.imshow(\"img\", img)\n",
    "key = cv2.waitKey(0)\n",
    "\n",
    "if label == 'Design 1' :\n",
    "    images = glob.glob(r\"C:\\Users\\Thilina Vithana\\Desktop\\Design Predictor\\Dataset\\Design 1/*.jpeg\")\n",
    "    random_image1_1 = random.choice(images)\n",
    "    random_image1 = cv2.imread(random_image1_1)\n",
    "    random_image2_2 = random.choice(images)\n",
    "    random_image2 = cv2.imread(random_image2_2)\n",
    "    random_image3_3 = random.choice(images)\n",
    "    random_image3 = cv2.imread(random_image3_3)\n",
    "    random_image4_4 = random.choice(images)\n",
    "    random_image4 = cv2.imread(random_image4_4)\n",
    "    \n",
    "    print(random_image1_1[-8:]) # get the image name as \"image1 = random_image1_1[-8:]\" \n",
    "    print(random_image2_2[-8:])\n",
    "    print(random_image3_3[-8:])\n",
    "    print(random_image4_4[-8:])\n",
    "\n",
    "    img1 = cv2.vconcat([random_image1, random_image2])\n",
    "    img2 = cv2.vconcat([random_image3, random_image4])\n",
    "    img = cv2.hconcat([img1, img2])\n",
    "    img = cv2.resize(img,(720,720))\n",
    "    cv2.imshow(\"img\", img)\n",
    "    key = cv2.waitKey(0)\n",
    "\n",
    "if label == 'Design 2' :\n",
    "    images = glob.glob(r\"C:\\Users\\Thilina Vithana\\Desktop\\Design Predictor\\Dataset\\Design 2/*.jpeg\")\n",
    "    random_image1_1 = random.choice(images)\n",
    "    random_image1 = cv2.imread(random_image1_1)\n",
    "    random_image2_2 = random.choice(images)\n",
    "    random_image2 = cv2.imread(random_image2_2)\n",
    "    random_image3_3 = random.choice(images)\n",
    "    random_image3 = cv2.imread(random_image3_3)\n",
    "    random_image4_4 = random.choice(images)\n",
    "    random_image4 = cv2.imread(random_image4_4)\n",
    "    \n",
    "    print(random_image1_1[-8:])\n",
    "    print(random_image2_2[-8:])\n",
    "    print(random_image3_3[-8:])\n",
    "    print(random_image4_4[-8:])\n",
    "\n",
    "    img1 = cv2.vconcat([random_image1, random_image2])\n",
    "    img2 = cv2.vconcat([random_image3, random_image4])\n",
    "    img = cv2.hconcat([img1, img2])\n",
    "    img = cv2.resize(img,(720,720))\n",
    "    cv2.imshow(\"img\", img)\n",
    "    key = cv2.waitKey(0)\n",
    "    \n",
    "if label == 'Design 3' :\n",
    "    images = glob.glob(r\"C:\\Users\\Thilina Vithana\\Desktop\\Design Predictor\\Dataset\\Design 3/*.jpeg\")\n",
    "    random_image1_1 = random.choice(images)\n",
    "    random_image1 = cv2.imread(random_image1_1)\n",
    "    random_image2_2 = random.choice(images)\n",
    "    random_image2 = cv2.imread(random_image2_2)\n",
    "    random_image3_3 = random.choice(images)\n",
    "    random_image3 = cv2.imread(random_image3_3)\n",
    "    random_image4_4 = random.choice(images)\n",
    "    random_image4 = cv2.imread(random_image4_4)\n",
    "    \n",
    "    print(random_image1_1[-8:])\n",
    "    print(random_image2_2[-8:])\n",
    "    print(random_image3_3[-8:])\n",
    "    print(random_image4_4[-8:])\n",
    "\n",
    "    img1 = cv2.vconcat([random_image1, random_image2])\n",
    "    img2 = cv2.vconcat([random_image3, random_image4])\n",
    "    img = cv2.hconcat([img1, img2])\n",
    "    img = cv2.resize(img,(720,720))\n",
    "    cv2.imshow(\"img\", img)\n",
    "    key = cv2.waitKey(0)\n",
    "        \n",
    "cv2.destroyAllWindows()"
   ]
  },
  {
   "cell_type": "code",
   "execution_count": null,
   "id": "e121e352",
   "metadata": {},
   "outputs": [],
   "source": []
  }
 ],
 "metadata": {
  "kernelspec": {
   "display_name": "Python 3 (ipykernel)",
   "language": "python",
   "name": "python3"
  },
  "language_info": {
   "codemirror_mode": {
    "name": "ipython",
    "version": 3
   },
   "file_extension": ".py",
   "mimetype": "text/x-python",
   "name": "python",
   "nbconvert_exporter": "python",
   "pygments_lexer": "ipython3",
   "version": "3.9.7"
  }
 },
 "nbformat": 4,
 "nbformat_minor": 5
}
